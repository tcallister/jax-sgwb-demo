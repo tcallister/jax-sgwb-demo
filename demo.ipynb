{
 "cells": [
  {
   "cell_type": "code",
   "execution_count": 1,
   "id": "a211a7cb",
   "metadata": {},
   "outputs": [],
   "source": [
    "import numpy as np\n",
    "import jax\n",
    "import jax.numpy as jnp\n",
    "import matplotlib.pyplot as plt\n",
    "import matplotlib as mpl\n",
    "mpl.style.use('plotting.mplstyle')\n",
    "import arviz as az"
   ]
  },
  {
   "cell_type": "markdown",
   "id": "5adb1743",
   "metadata": {},
   "source": [
    "# Jax & jit (just-in-time) compilation"
   ]
  },
  {
   "cell_type": "code",
   "execution_count": 2,
   "id": "6a527025",
   "metadata": {},
   "outputs": [
    {
     "name": "stdout",
     "output_type": "stream",
     "text": [
      "97.845566\n"
     ]
    }
   ],
   "source": [
    "# Define a dummy function\n",
    "def my_function(x):\n",
    "    return x*x - jnp.power(x,1./3.)\n",
    "\n",
    "# Evaluate for reference\n",
    "print(my_function(10))"
   ]
  },
  {
   "cell_type": "code",
   "execution_count": 3,
   "id": "70fd78c3",
   "metadata": {},
   "outputs": [
    {
     "name": "stdout",
     "output_type": "stream",
     "text": [
      "12.1 µs ± 121 ns per loop (mean ± std. dev. of 7 runs, 100,000 loops each)\n"
     ]
    }
   ],
   "source": [
    "# Let's see how long this takes to run\n",
    "%timeit my_function(10)"
   ]
  },
  {
   "cell_type": "code",
   "execution_count": 4,
   "id": "3faa46b9",
   "metadata": {},
   "outputs": [
    {
     "name": "stdout",
     "output_type": "stream",
     "text": [
      "97.845566\n"
     ]
    }
   ],
   "source": [
    "# Now, wrap this in a jax.jit(), returning a new function\n",
    "jitted_function = jax.jit(my_function)\n",
    "\n",
    "# Evaluate to check consistency\n",
    "print(jitted_function(10.))"
   ]
  },
  {
   "cell_type": "code",
   "execution_count": 5,
   "id": "2217c406",
   "metadata": {},
   "outputs": [
    {
     "name": "stdout",
     "output_type": "stream",
     "text": [
      "2.57 µs ± 15.1 ns per loop (mean ± std. dev. of 7 runs, 100,000 loops each)\n"
     ]
    }
   ],
   "source": [
    "# This one runs much faster!\n",
    "%timeit jitted_function(10)"
   ]
  },
  {
   "cell_type": "markdown",
   "id": "8fc068be",
   "metadata": {},
   "source": [
    "# grad"
   ]
  },
  {
   "cell_type": "code",
   "execution_count": 6,
   "id": "968d3b03",
   "metadata": {},
   "outputs": [
    {
     "name": "stdout",
     "output_type": "stream",
     "text": [
      "9.886002\n"
     ]
    }
   ],
   "source": [
    "# Use jax.grad to generate a new function that calculates the gradient of our toy function\n",
    "grad_my_function = jax.grad(my_function)\n",
    "\n",
    "# Evaluate\n",
    "print(grad_my_function(5.))"
   ]
  },
  {
   "cell_type": "code",
   "execution_count": 7,
   "id": "5e79b224",
   "metadata": {},
   "outputs": [
    {
     "name": "stdout",
     "output_type": "stream",
     "text": [
      "9.886002\n"
     ]
    }
   ],
   "source": [
    "# We can wrap this, too, in a jax.jit command to increase speed\n",
    "jitted_grad_function = jax.jit(grad_my_function)\n",
    "\n",
    "# Evalute for comparison\n",
    "print(jitted_grad_function(5.))"
   ]
  },
  {
   "cell_type": "code",
   "execution_count": 8,
   "id": "c4b4fe3e",
   "metadata": {},
   "outputs": [
    {
     "name": "stdout",
     "output_type": "stream",
     "text": [
      "1.22 ms ± 9.16 µs per loop (mean ± std. dev. of 7 runs, 1,000 loops each)\n",
      "2.6 µs ± 26.5 ns per loop (mean ± std. dev. of 7 runs, 100,000 loops each)\n"
     ]
    }
   ],
   "source": [
    "# Compare speeds!\n",
    "%timeit grad_my_function(5.)\n",
    "%timeit jitted_grad_function(5.)"
   ]
  },
  {
   "cell_type": "code",
   "execution_count": 9,
   "id": "42439b23",
   "metadata": {},
   "outputs": [
    {
     "name": "stdout",
     "output_type": "stream",
     "text": [
      "(Array(1., dtype=float32, weak_type=True), Array(1., dtype=float32, weak_type=True), Array([0.1, 0.1, 0.1, 0.1, 0.1, 0.1, 0.1, 0.1, 0.1, 0.1], dtype=float32))\n"
     ]
    }
   ],
   "source": [
    "# Gradient operation works on functions with multiple arguments\n",
    "def more_complicated_function(x,y,array):\n",
    "    return x+y+jnp.mean(array)\n",
    "\n",
    "# Take the gradient with respect to all arguments (of mixed types!)\n",
    "grad_more_complicated_function = jax.grad(more_complicated_function,argnums=(0,1,2))\n",
    "\n",
    "print(grad_more_complicated_function(4.,2.,jnp.arange(10,dtype=float)))"
   ]
  },
  {
   "cell_type": "markdown",
   "id": "5fea6b39",
   "metadata": {},
   "source": [
    "# vmap"
   ]
  },
  {
   "cell_type": "code",
   "execution_count": 10,
   "id": "674ab98d",
   "metadata": {},
   "outputs": [
    {
     "data": {
      "text/plain": [
       "Array([25.5, 36.5], dtype=float32)"
      ]
     },
     "execution_count": 10,
     "metadata": {},
     "output_type": "execute_result"
    }
   ],
   "source": [
    "# vmap lets you parallelize over some or all arguments\n",
    "# e.g.\n",
    "\n",
    "x_list = jnp.array([10.,11.])\n",
    "y = 11.\n",
    "array_list = jnp.array([\n",
    "              jnp.arange(10,dtype=float),\n",
    "              jnp.arange(10,20,dtype=float)])\n",
    "\n",
    "# Parallelize over first and second arguments\n",
    "vmapped_complicated_function = jax.vmap(more_complicated_function,in_axes=(0,None,0))\n",
    "vmapped_complicated_function(x_list,y,array_list)"
   ]
  },
  {
   "cell_type": "code",
   "execution_count": 11,
   "id": "206a6341",
   "metadata": {},
   "outputs": [
    {
     "data": {
      "text/plain": [
       "Array([25.5, 36.5], dtype=float32)"
      ]
     },
     "execution_count": 11,
     "metadata": {},
     "output_type": "execute_result"
    }
   ],
   "source": [
    "# As before, we can jit this!\n",
    "jitted_vmapped_complicated_function = jax.jit(vmapped_complicated_function)\n",
    "jitted_vmapped_complicated_function(x_list,y,array_list)"
   ]
  },
  {
   "cell_type": "code",
   "execution_count": 12,
   "id": "06e7180d",
   "metadata": {},
   "outputs": [
    {
     "name": "stdout",
     "output_type": "stream",
     "text": [
      "584 µs ± 5.02 µs per loop (mean ± std. dev. of 7 runs, 1,000 loops each)\n",
      "3.45 µs ± 41.5 ns per loop (mean ± std. dev. of 7 runs, 100,000 loops each)\n"
     ]
    }
   ],
   "source": [
    "%timeit vmapped_complicated_function(x_list,y,array_list)\n",
    "%timeit jitted_vmapped_complicated_function(x_list,y,array_list)"
   ]
  },
  {
   "cell_type": "markdown",
   "id": "fb4904b3",
   "metadata": {},
   "source": [
    "# Inference with numpyro\n",
    "\n",
    "Let's use jax to perform parameter estimation on our O3 stochastic measurements"
   ]
  },
  {
   "cell_type": "code",
   "execution_count": 13,
   "id": "1f993434",
   "metadata": {},
   "outputs": [],
   "source": [
    "import numpyro\n",
    "from numpyro.infer import NUTS,MCMC\n",
    "import numpyro.distributions as dist\n",
    "from jax.config import config\n",
    "config.update(\"jax_enable_x64\", True)\n",
    "from jax import random"
   ]
  },
  {
   "cell_type": "code",
   "execution_count": 14,
   "id": "2233a376",
   "metadata": {},
   "outputs": [],
   "source": [
    "# This is the likelihood model that we'll use for inference\n",
    "def likelihood(frequencies,Ys,sigmas):\n",
    "    \n",
    "    # Draw parameters from our prior\n",
    "    log_Omega = numpyro.sample(\"log_Omega\",dist.Uniform(-12,-6))\n",
    "    alpha = numpyro.sample(\"alpha\",dist.Normal(0,3))\n",
    "    \n",
    "    # Construct proposed model background\n",
    "    Omega_f_model = 10.**log_Omega * jnp.power(frequencies/25.,alpha)\n",
    "    \n",
    "    # Compare against data\n",
    "    # Specifically, this line says that our observations should be distributed as Y ~ N(Omg_f_model,sigma),\n",
    "    numpyro.sample(\"obs\",dist.Normal(Omega_f_model,sigmas),sample_shape=jnp.shape(frequencies),obs=Ys)"
   ]
  },
  {
   "cell_type": "code",
   "execution_count": 15,
   "id": "a1eef4f3",
   "metadata": {},
   "outputs": [],
   "source": [
    "# Load HL O3 data\n",
    "frequencies,Ys,sigmas = np.loadtxt('./input/C_O3_HL.dat',unpack=True,skiprows=1)\n",
    "\n",
    "# Limit to low and unnotched frequencies\n",
    "elements_to_keep = (~np.isinf(sigmas))*(frequencies<400)\n",
    "frequencies = frequencies[elements_to_keep]\n",
    "Ys = Ys[elements_to_keep]\n",
    "sigmas = sigmas[elements_to_keep]"
   ]
  },
  {
   "cell_type": "code",
   "execution_count": 16,
   "id": "ca5817f4",
   "metadata": {},
   "outputs": [
    {
     "name": "stderr",
     "output_type": "stream",
     "text": [
      "sample: 100%|█████████████████████████████████████████████████████████████████| 4000/4000 [00:09<00:00, 404.94it/s, 11 steps of size 1.88e-01. acc. prob=0.98]\n"
     ]
    },
    {
     "name": "stdout",
     "output_type": "stream",
     "text": [
      "\n",
      "                 mean       std    median      5.0%     95.0%     n_eff     r_hat\n",
      "      alpha     -0.70      2.65     -0.63     -4.94      3.70   1193.47      1.00\n",
      "  log_Omega    -10.11      1.17    -10.20    -12.00     -8.43    933.28      1.00\n",
      "\n",
      "Number of divergences: 2\n"
     ]
    }
   ],
   "source": [
    "# Set up inference machinery, setting some user-defined knobs and specifying the number of samples we want\n",
    "kernel = NUTS(likelihood,dense_mass=True,target_accept_prob=0.95)\n",
    "mcmc = MCMC(kernel,num_warmup=1000,num_samples=3000,num_chains=1)\n",
    "\n",
    "# Set up a random key that will be passed to numpyro\n",
    "rng_key = random.PRNGKey(10)\n",
    "rng_key,rng_key_ = random.split(rng_key)\n",
    "\n",
    "# Run!\n",
    "mcmc.run(rng_key_,frequencies,Ys,sigmas)\n",
    "mcmc.print_summary()"
   ]
  },
  {
   "cell_type": "code",
   "execution_count": 17,
   "id": "ea37df48",
   "metadata": {},
   "outputs": [
    {
     "data": {
      "image/png": "[encoded data removed]",
      "text/plain": [
       "<Figure size 500x400 with 4 Axes>"
      ]
     },
     "metadata": {},
     "output_type": "display_data"
    }
   ],
   "source": [
    "# Extract samples and plot!\n",
    "data = az.from_numpyro(mcmc)\n",
    "posterior = az.extract(data,var_names=['log_Omega','alpha'])\n",
    "\n",
    "fig,axs = plt.subplots(2,2,figsize=(5,4))\n",
    "\n",
    "axs[0,0].hist(posterior.log_Omega.values,bins=np.linspace(-10,-6,20))\n",
    "axs[0,0].set_xlim(-10,-6)\n",
    "axs[0,0].set_xticklabels([])\n",
    "axs[0,0].set_yticklabels([])\n",
    "\n",
    "axs[1,1].hist(posterior.alpha.values,bins=np.linspace(-10,10,20))\n",
    "axs[1,1].set_xlim(-10,10)\n",
    "axs[1,1].set_yticklabels([])\n",
    "axs[1,1].set_xlabel(r'$\\alpha$')\n",
    "\n",
    "axs[1,0].hexbin(posterior.log_Omega.values,posterior.alpha.values,\n",
    "                gridsize=20,extent=(-10,-6,-10,10),cmap='Blues',mincnt=1)\n",
    "axs[1,0].set_xlim(-10,-6)\n",
    "axs[1,0].set_ylim(-10,10)\n",
    "axs[1,0].set_xlabel(r'$\\log_{10}\\Omega_\\mathrm{ref}$')\n",
    "axs[1,0].set_ylabel(r'$\\alpha$')\n",
    "\n",
    "axs[0,1].axis('off')\n",
    "plt.tight_layout()\n",
    "plt.show()"
   ]
  },
  {
   "cell_type": "code",
   "execution_count": 18,
   "id": "b7034380",
   "metadata": {},
   "outputs": [
    {
     "name": "stderr",
     "output_type": "stream",
     "text": [
      "sample: 100%|██████████████████████████████████████████████████████████████████| 5000/5000 [00:34<00:00, 145.19it/s, 7 steps of size 1.52e-01. acc. prob=0.98]\n"
     ]
    },
    {
     "name": "stdout",
     "output_type": "stream",
     "text": [
      "\n",
      "                 mean       std    median      5.0%     95.0%     n_eff     r_hat\n",
      "     alpha1      0.01      3.02     -0.00     -4.75      4.93   1313.90      1.00\n",
      "     alpha2     -0.75      2.58     -0.68     -5.06      3.31   1204.93      1.00\n",
      "  log_Omega    -10.11      1.18    -10.19    -12.00     -8.44   1506.73      1.00\n",
      "\n",
      "Number of divergences: 0\n"
     ]
    }
   ],
   "source": [
    "# Here's a marginally more complicated broken power-law model\n",
    "def likelihood_bpl(frequencies,Ys,sigmas):\n",
    "    \n",
    "    # Draw parameters from our prior\n",
    "    log_Omega = numpyro.sample(\"log_Omega\",dist.Uniform(-12,-6))\n",
    "    alpha1 = numpyro.sample(\"alpha1\",dist.Normal(0,3))\n",
    "    alpha2 = numpyro.sample(\"alpha2\",dist.Normal(0,3))\n",
    "    \n",
    "    # Construct proposed model background\n",
    "    Omega_f_model = jnp.where(frequencies<25.,\n",
    "                              10.**log_Omega * (frequencies/25.)**alpha1,\n",
    "                              10.**log_Omega * (frequencies/25.)**alpha2)\n",
    "        \n",
    "    # Compare against data\n",
    "    # Specifically, this line says that our observations should be distributed as Y ~ N(Omg_f_model,sigma),\n",
    "    numpyro.sample(\"obs\",dist.Normal(Omega_f_model,sigmas),sample_shape=jnp.shape(frequencies),obs=Ys)\n",
    " \n",
    "# Set up inference and run\n",
    "kernel = NUTS(likelihood_bpl,dense_mass=True,target_accept_prob=0.98)\n",
    "mcmc = MCMC(kernel,num_warmup=2000,num_samples=3000,num_chains=1)\n",
    "rng_key = random.PRNGKey(10)\n",
    "rng_key,rng_key_ = random.split(rng_key)\n",
    "mcmc.run(rng_key_,frequencies,Ys,sigmas)\n",
    "mcmc.print_summary()"
   ]
  },
  {
   "cell_type": "code",
   "execution_count": 19,
   "id": "799890f0",
   "metadata": {},
   "outputs": [
    {
     "data": {
      "image/png": "[encoded data removed]",
      "text/plain": [
       "<Figure size 500x400 with 9 Axes>"
      ]
     },
     "metadata": {},
     "output_type": "display_data"
    }
   ],
   "source": [
    "data = az.from_numpyro(mcmc)\n",
    "posterior = az.extract(data,var_names=['log_Omega','alpha1','alpha2'])\n",
    "\n",
    "fig,axs = plt.subplots(3,3,figsize=(5,4))\n",
    "\n",
    "axs[0,0].hist(posterior.log_Omega.values,bins=np.linspace(-10,-6,20))\n",
    "axs[0,0].set_xlim(-10,-6)\n",
    "axs[0,0].set_xticklabels([])\n",
    "axs[0,0].set_yticklabels([])\n",
    "\n",
    "axs[1,1].hist(posterior.alpha1.values,bins=np.linspace(-10,10,20))\n",
    "axs[1,1].set_xlim(-10,10)\n",
    "axs[1,1].set_xticklabels([])\n",
    "axs[1,1].set_yticklabels([])\n",
    "\n",
    "axs[2,2].hist(posterior.alpha2.values,bins=np.linspace(-10,10,20))\n",
    "axs[2,2].set_xlim(-10,10)\n",
    "axs[2,2].set_yticklabels([])\n",
    "axs[2,2].set_xlabel(r'$\\alpha_2$')\n",
    "\n",
    "axs[1,0].hexbin(posterior.log_Omega.values,posterior.alpha1.values,\n",
    "                gridsize=20,extent=(-10,-6,-10,10),cmap='Blues',mincnt=1)\n",
    "axs[1,0].set_xlim(-10,-6)\n",
    "axs[1,0].set_ylim(-10,10)\n",
    "axs[1,0].set_xticklabels([])\n",
    "axs[1,0].set_ylabel(r'$\\alpha_1$')\n",
    "\n",
    "axs[2,0].hexbin(posterior.log_Omega.values,posterior.alpha2.values,\n",
    "                gridsize=20,extent=(-10,-6,-10,10),cmap='Blues',mincnt=1)\n",
    "axs[2,0].set_xlim(-10,-6)\n",
    "axs[2,0].set_ylim(-10,10)\n",
    "axs[2,0].set_xlabel(r'$\\log_{10}\\Omega_\\mathrm{ref}$')\n",
    "axs[2,0].set_ylabel(r'$\\alpha_2$')\n",
    "\n",
    "axs[2,1].hexbin(posterior.alpha1.values,posterior.alpha2.values,\n",
    "                gridsize=20,extent=(-10,10,-10,10),cmap='Blues',mincnt=1)\n",
    "axs[2,1].set_xlim(-10,10)\n",
    "axs[2,1].set_ylim(-10,10)\n",
    "axs[2,1].set_xlabel(r'$\\alpha_1$')\n",
    "axs[2,1].set_yticklabels([])\n",
    "\n",
    "axs[0,1].axis('off')\n",
    "axs[0,2].axis('off')\n",
    "axs[1,2].axis('off')\n",
    "plt.tight_layout()\n",
    "plt.show()"
   ]
  },
  {
   "cell_type": "code",
   "execution_count": null,
   "id": "4ccc5165",
   "metadata": {},
   "outputs": [],
   "source": []
  }
 ],
 "metadata": {
  "kernelspec": {
   "display_name": "Python 3 (ipykernel)",
   "language": "python",
   "name": "python3"
  },
  "language_info": {
   "codemirror_mode": {
    "name": "ipython",
    "version": 3
   },
   "file_extension": ".py",
   "mimetype": "text/x-python",
   "name": "python",
   "nbconvert_exporter": "python",
   "pygments_lexer": "ipython3",
   "version": "3.9.16"
  }
 },
 "nbformat": 4,
 "nbformat_minor": 5
}
